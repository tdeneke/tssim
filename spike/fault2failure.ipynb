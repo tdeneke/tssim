{
 "metadata": {
  "name": "",
  "signature": "sha256:7e002b0a7a92777c1a93748ac23d2ba833b3302922b0c6a5ad4152ab3a24c34d"
 },
 "nbformat": 3,
 "nbformat_minor": 0,
 "worksheets": [
  {
   "cells": [
    {
     "cell_type": "code",
     "collapsed": false,
     "input": [
      "%pylab inline"
     ],
     "language": "python",
     "metadata": {},
     "outputs": [
      {
       "output_type": "stream",
       "stream": "stdout",
       "text": [
        "Populating the interactive namespace from numpy and matplotlib\n"
       ]
      },
      {
       "output_type": "stream",
       "stream": "stderr",
       "text": [
        "WARNING: pylab import has clobbered these variables: ['datetime', 'test', 'unique', 'info']\n",
        "`%matplotlib` prevents importing * from pylab and numpy\n"
       ]
      }
     ],
     "prompt_number": 215
    },
    {
     "cell_type": "code",
     "collapsed": false,
     "input": [
      "import keras\n",
      "import numpy as np\n",
      "from sklearn.decomposition import PCA\n",
      "from pandas import *\n",
      "import datetime as dt\n",
      "import statsmodels.api as sm\n",
      "import matplotlib.pyplot as plt\n",
      "from sklearn import preprocessing\n",
      "from sklearn.metrics import confusion_matrix, recall_score, precision_score\n",
      "from keras.models import Sequential\n",
      "from keras.layers import Dense, Dropout, LSTM, Activation\n",
      "%matplotlib inline"
     ],
     "language": "python",
     "metadata": {},
     "outputs": [],
     "prompt_number": 216
    },
    {
     "cell_type": "code",
     "collapsed": false,
     "input": [
      "#set seed for reproducability\n",
      "np.random.seed(1234)  \n",
      "PYTHONHASHSEED = 0"
     ],
     "language": "python",
     "metadata": {},
     "outputs": [],
     "prompt_number": 217
    },
    {
     "cell_type": "code",
     "collapsed": false,
     "input": [
      "scale        = lambda x: (x - x.mean()) / x.std()"
     ],
     "language": "python",
     "metadata": {},
     "outputs": [],
     "prompt_number": 218
    },
    {
     "cell_type": "code",
     "collapsed": false,
     "input": [
      "def make_pca_index(data, scale_data = True):\n",
      "    '''\n",
      "    Compute the correlation matrix of a set of stock data, and return\n",
      "    the first principal component.\n",
      "\n",
      "    By default, the data are scaled to have mean zero and variance one\n",
      "    before performing the PCA.\n",
      "    '''\n",
      "    if scale_data:\n",
      "        #print(data)\n",
      "        data_std = data.apply(scale)\n",
      "        #print(data_std)\n",
      "    else:\n",
      "        data_std = data\n",
      "    #corrs = np.asarray(data_std.cov())\n",
      "    pca   = PCA(n_components = 1).fit(data_std.corr())\n",
      "    index = -scale(pca.transform(scale(data_std)))\n",
      "    return index"
     ],
     "language": "python",
     "metadata": {},
     "outputs": [],
     "prompt_number": 219
    },
    {
     "cell_type": "code",
     "collapsed": false,
     "input": [
      "train = read_csv('CMAPSSData/train_FD001.txt', sep=' ', header=None, usecols=arange(26))\n",
      "test     = read_csv('CMAPSSData/test_FD001.txt', sep=' ', header=None, usecols=arange(26))\n",
      "truth = read_csv('CMAPSSData/RUL_FD001.txt', sep=' ', header=None, usecols=arange(1))\n",
      "train.columns = ['id', 'cycle', 'setting1', 'setting2', 'setting3', 's1', 's2', 's3',\n",
      "                     's4', 's5', 's6', 's7', 's8', 's9', 's10', 's11', 's12', 's13', 's14',\n",
      "                     's15', 's16', 's17', 's18', 's19', 's20', 's21']\n",
      "test.columns = ['id', 'cycle', 'setting1', 'setting2', 'setting3', 's1', 's2', 's3',\n",
      "                     's4', 's5', 's6', 's7', 's8', 's9', 's10', 's11', 's12', 's13', 's14',\n",
      "                     's15', 's16', 's17', 's18', 's19', 's20', 's21']\n",
      "truth.columns = ['cycle']\n",
      "train = train.sort_values(['id','cycle'])"
     ],
     "language": "python",
     "metadata": {},
     "outputs": [],
     "prompt_number": 220
    },
    {
     "cell_type": "code",
     "collapsed": false,
     "input": [
      "#labels for regression\n",
      "rul = DataFrame(train.groupby('id')['cycle'].max()).reset_index()\n",
      "rul.columns = ['id', 'max']\n",
      "train = train.merge(rul, on=['id'], how='left')\n",
      "train['RUL'] = train['max'] - train['cycle']\n",
      "train.drop('max', axis=1, inplace=True)"
     ],
     "language": "python",
     "metadata": {},
     "outputs": [],
     "prompt_number": 221
    },
    {
     "cell_type": "code",
     "collapsed": false,
     "input": [
      "#testing pca\n",
      "#remove constant columns\n",
      "#corr = train.corr()\n",
      "#print(corr.isnull().values.any())\n",
      "#index = make_pca_index(train, scale_data=False)\n",
      "#print(index.shape)\n",
      "#plt.plot(index[0:2000])"
     ],
     "language": "python",
     "metadata": {},
     "outputs": [],
     "prompt_number": 222
    },
    {
     "cell_type": "code",
     "collapsed": false,
     "input": [
      "#labels for classification\n",
      "w1 = 30\n",
      "w0 = 15\n",
      "train['label1'] = np.where(train['RUL'] <= w1, 1, 0 )\n",
      "train['label2'] = train['label1']\n",
      "train.loc[train['RUL'] <= w0, 'label2'] = 2"
     ],
     "language": "python",
     "metadata": {},
     "outputs": [],
     "prompt_number": 223
    },
    {
     "cell_type": "code",
     "collapsed": false,
     "input": [
      "# normalization\n",
      "train['ncycle'] = train['cycle']\n",
      "ncols = train.columns.difference(['id','cycle','RUL','label1','label2'])\n",
      "min_max_scaler = preprocessing.MinMaxScaler()\n",
      "norm_train = DataFrame(min_max_scaler.fit_transform(train[ncols]), \n",
      "                             columns=ncols, \n",
      "                             index=train.index)\n",
      "join = train[train.columns.difference(ncols)].join(norm_train)\n",
      "train = join.reindex(columns = train.columns)"
     ],
     "language": "python",
     "metadata": {},
     "outputs": [],
     "prompt_number": 224
    },
    {
     "cell_type": "code",
     "collapsed": false,
     "input": [
      "# normalization of test data\n",
      "test['ncycle'] = test['cycle']\n",
      "norm_test = DataFrame(min_max_scaler.transform(test[ncols]), \n",
      "                            columns=ncols, \n",
      "                            index=test.index)\n",
      "test_join = test[test.columns.difference(ncols)].join(norm_test)\n",
      "test = test_join.reindex(columns = test.columns)\n",
      "test = test.reset_index(drop=True)"
     ],
     "language": "python",
     "metadata": {},
     "outputs": [],
     "prompt_number": 225
    },
    {
     "cell_type": "code",
     "collapsed": false,
     "input": [
      "# regression label for test\n",
      "rul = DataFrame(test.groupby('id')['cycle'].max()).reset_index()\n",
      "rul.columns = ['id', 'max']\n",
      "truth['id'] = truth.index + 1\n",
      "truth['max'] = rul['max'] + truth['cycle']\n",
      "truth.drop('cycle', axis=1, inplace=True)\n",
      "test = test.merge(truth, on=['id'], how='left')\n",
      "test['RUL'] = test['max'] - test['cycle']\n",
      "test.drop('max', axis=1, inplace=True)"
     ],
     "language": "python",
     "metadata": {},
     "outputs": [],
     "prompt_number": 226
    },
    {
     "cell_type": "code",
     "collapsed": false,
     "input": [
      "# generate classification label for test\n",
      "test['label1'] = np.where(test['RUL'] <= w1, 1, 0 )\n",
      "test['label2'] = test['label1']\n",
      "test.loc[test['RUL'] <= w0, 'label2'] = 2"
     ],
     "language": "python",
     "metadata": {},
     "outputs": [],
     "prompt_number": 227
    },
    {
     "cell_type": "code",
     "collapsed": false,
     "input": [
      "# pick a large window size of 50 cycles\n",
      "sequence_length = 50"
     ],
     "language": "python",
     "metadata": {},
     "outputs": [],
     "prompt_number": 228
    },
    {
     "cell_type": "code",
     "collapsed": false,
     "input": [
      "# modelling for binary classification\n",
      "# function to reshape features into (samples, time steps, features) \n",
      "def gen_sequence(id_df, seq_length, seq_cols):\n",
      "    \"\"\" Only sequences that meet the window-length are considered, no padding is used. This means for testing\n",
      "    we need to drop those which are below the window-length. An alternative would be to pad sequences so that\n",
      "    we can use shorter ones \"\"\"\n",
      "    data_array = id_df[seq_cols].values\n",
      "    num_elements = data_array.shape[0]\n",
      "    for start, stop in zip(range(0, num_elements-seq_length), range(seq_length, num_elements)):\n",
      "        yield data_array[start:stop, :]"
     ],
     "language": "python",
     "metadata": {},
     "outputs": [],
     "prompt_number": 229
    },
    {
     "cell_type": "code",
     "collapsed": false,
     "input": [
      "# pick the feature columns \n",
      "sensor_cols = ['s' + str(i) for i in range(1,22)]\n",
      "sequence_cols = ['setting1', 'setting2', 'setting3', 'ncycle']\n",
      "sequence_cols.extend(sensor_cols)"
     ],
     "language": "python",
     "metadata": {},
     "outputs": [],
     "prompt_number": 230
    },
    {
     "cell_type": "code",
     "collapsed": false,
     "input": [
      "# generator for the sequences\n",
      "seq_gen = (list(gen_sequence(train[train['id']==id], sequence_length, sequence_cols)) \n",
      "           for id in train['id'].unique())"
     ],
     "language": "python",
     "metadata": {},
     "outputs": [],
     "prompt_number": 231
    },
    {
     "cell_type": "code",
     "collapsed": false,
     "input": [
      "# generate sequences and convert to numpy array\n",
      "seq_array = np.concatenate(list(seq_gen)).astype(np.float32)\n",
      "seq_array.shape"
     ],
     "language": "python",
     "metadata": {},
     "outputs": [
      {
       "metadata": {},
       "output_type": "pyout",
       "prompt_number": 232,
       "text": [
        "(15631, 50, 25)"
       ]
      }
     ],
     "prompt_number": 232
    },
    {
     "cell_type": "code",
     "collapsed": false,
     "input": [
      "# function to generate labels\n",
      "def gen_labels(id_df, seq_length, label):\n",
      "    data_array = id_df[label].values\n",
      "    num_elements = data_array.shape[0]\n",
      "    return data_array[seq_length:num_elements, :]"
     ],
     "language": "python",
     "metadata": {},
     "outputs": [],
     "prompt_number": 233
    },
    {
     "cell_type": "code",
     "collapsed": false,
     "input": [
      "# generate labels\n",
      "label_gen = [gen_labels(train[train['id']==id], sequence_length, ['label1']) \n",
      "             for id in train['id'].unique()]\n",
      "label_array = np.concatenate(label_gen).astype(np.float32)\n",
      "label_array.shape"
     ],
     "language": "python",
     "metadata": {},
     "outputs": [
      {
       "metadata": {},
       "output_type": "pyout",
       "prompt_number": 234,
       "text": [
        "(15631, 1)"
       ]
      }
     ],
     "prompt_number": 234
    },
    {
     "cell_type": "code",
     "collapsed": false,
     "input": [
      "# modeling \n",
      "# build the network\n",
      "nb_features = seq_array.shape[2]\n",
      "nb_out = label_array.shape[1]\n",
      "\n",
      "model = Sequential()\n",
      "\n",
      "model.add(LSTM(\n",
      "         input_shape=(sequence_length, nb_features),\n",
      "         units=100,\n",
      "         return_sequences=True))\n",
      "model.add(Dropout(0.2))\n",
      "\n",
      "model.add(LSTM(\n",
      "          units=50,\n",
      "          return_sequences=False))\n",
      "model.add(Dropout(0.2))\n",
      "\n",
      "model.add(Dense(units=nb_out, activation='sigmoid'))\n",
      "model.compile(loss='binary_crossentropy', optimizer='adam', metrics=['accuracy'])"
     ],
     "language": "python",
     "metadata": {},
     "outputs": [],
     "prompt_number": 235
    },
    {
     "cell_type": "code",
     "collapsed": false,
     "input": [
      "print(model.summary())"
     ],
     "language": "python",
     "metadata": {},
     "outputs": [
      {
       "output_type": "stream",
       "stream": "stdout",
       "text": [
        "_________________________________________________________________\n",
        "Layer (type)                 Output Shape              Param #   \n",
        "=================================================================\n",
        "lstm_7 (LSTM)                (None, 50, 100)           50400     \n",
        "_________________________________________________________________\n",
        "dropout_7 (Dropout)          (None, 50, 100)           0         \n",
        "_________________________________________________________________\n",
        "lstm_8 (LSTM)                (None, 50)                30200     \n",
        "_________________________________________________________________\n",
        "dropout_8 (Dropout)          (None, 50)                0         \n",
        "_________________________________________________________________\n",
        "dense_4 (Dense)              (None, 1)                 51        \n",
        "=================================================================\n",
        "Total params: 80,651\n",
        "Trainable params: 80,651\n",
        "Non-trainable params: 0\n",
        "_________________________________________________________________\n",
        "None\n"
       ]
      }
     ],
     "prompt_number": 236
    },
    {
     "cell_type": "code",
     "collapsed": false,
     "input": [
      "%%time\n",
      "# fit the network\n",
      "model.fit(seq_array, label_array, epochs=10, batch_size=200, validation_split=0.05, verbose=1,\n",
      "          callbacks = [keras.callbacks.EarlyStopping(monitor='val_loss', min_delta=0, patience=0, verbose=0, mode='auto')])"
     ],
     "language": "python",
     "metadata": {},
     "outputs": [
      {
       "output_type": "stream",
       "stream": "stdout",
       "text": [
        "Train on 14849 samples, validate on 782 samples\n",
        "Epoch 1/10\n",
        "\n"
       ]
      },
      {
       "output_type": "stream",
       "stream": "stdout",
       "text": [
        "  200/14849 [..............................] - ETA: 1:47 - loss: 0.6633 - acc: 0.7500"
       ]
      },
      {
       "output_type": "stream",
       "stream": "stdout",
       "text": [
        "\n",
        "  400/14849 [..............................] - ETA: 59s - loss: 0.6257 - acc: 0.7800 "
       ]
      },
      {
       "output_type": "stream",
       "stream": "stdout",
       "text": [
        "\n",
        "  600/14849 [>.............................] - ETA: 42s - loss: 0.6045 - acc: 0.7783"
       ]
      },
      {
       "output_type": "stream",
       "stream": "stdout",
       "text": [
        "\n",
        "  800/14849 [>.............................] - ETA: 34s - loss: 0.5917 - acc: 0.7737"
       ]
      },
      {
       "output_type": "stream",
       "stream": "stdout",
       "text": [
        "\n",
        " 1000/14849 [=>............................] - ETA: 29s - loss: 0.5806 - acc: 0.7740"
       ]
      },
      {
       "output_type": "stream",
       "stream": "stdout",
       "text": [
        "\n",
        " 1200/14849 [=>............................] - ETA: 26s - loss: 0.5557 - acc: 0.7858"
       ]
      },
      {
       "output_type": "stream",
       "stream": "stdout",
       "text": [
        "\n",
        " 1400/14849 [=>............................] - ETA: 23s - loss: 0.5423 - acc: 0.7907"
       ]
      },
      {
       "output_type": "stream",
       "stream": "stdout",
       "text": [
        "\n",
        " 1600/14849 [==>...........................] - ETA: 21s - loss: 0.5407 - acc: 0.7894"
       ]
      },
      {
       "output_type": "stream",
       "stream": "stdout",
       "text": [
        "\n",
        " 1800/14849 [==>...........................] - ETA: 20s - loss: 0.5276 - acc: 0.7939"
       ]
      },
      {
       "output_type": "stream",
       "stream": "stdout",
       "text": [
        "\n",
        " 2000/14849 [===>..........................] - ETA: 18s - loss: 0.5198 - acc: 0.7955"
       ]
      },
      {
       "output_type": "stream",
       "stream": "stdout",
       "text": [
        "\n",
        " 2200/14849 [===>..........................] - ETA: 17s - loss: 0.5192 - acc: 0.7914"
       ]
      },
      {
       "output_type": "stream",
       "stream": "stdout",
       "text": [
        "\n",
        " 2400/14849 [===>..........................] - ETA: 17s - loss: 0.5052 - acc: 0.7987"
       ]
      },
      {
       "output_type": "stream",
       "stream": "stdout",
       "text": [
        "\n",
        " 2600/14849 [====>.........................] - ETA: 16s - loss: 0.4999 - acc: 0.7981"
       ]
      },
      {
       "output_type": "stream",
       "stream": "stdout",
       "text": [
        "\n",
        " 2800/14849 [====>.........................] - ETA: 16s - loss: 0.4917 - acc: 0.7989"
       ]
      },
      {
       "output_type": "stream",
       "stream": "stdout",
       "text": [
        "\n",
        " 3000/14849 [=====>........................] - ETA: 15s - loss: 0.4862 - acc: 0.7963"
       ]
      },
      {
       "output_type": "stream",
       "stream": "stdout",
       "text": [
        "\n",
        " 3200/14849 [=====>........................] - ETA: 14s - loss: 0.4791 - acc: 0.7947"
       ]
      },
      {
       "output_type": "stream",
       "stream": "stdout",
       "text": [
        "\n",
        " 3400/14849 [=====>........................] - ETA: 14s - loss: 0.4725 - acc: 0.7929"
       ]
      },
      {
       "output_type": "stream",
       "stream": "stdout",
       "text": [
        "\n",
        " 3600/14849 [======>.......................] - ETA: 14s - loss: 0.4621 - acc: 0.7975"
       ]
      },
      {
       "output_type": "stream",
       "stream": "stdout",
       "text": [
        "\n",
        " 3800/14849 [======>.......................] - ETA: 14s - loss: 0.4518 - acc: 0.8029"
       ]
      },
      {
       "output_type": "stream",
       "stream": "stdout",
       "text": [
        "\n",
        " 4000/14849 [=======>......................] - ETA: 13s - loss: 0.4427 - acc: 0.8075"
       ]
      },
      {
       "output_type": "stream",
       "stream": "stdout",
       "text": [
        "\n",
        " 4200/14849 [=======>......................] - ETA: 13s - loss: 0.4364 - acc: 0.8095"
       ]
      },
      {
       "output_type": "stream",
       "stream": "stdout",
       "text": [
        "\n",
        " 4400/14849 [=======>......................] - ETA: 13s - loss: 0.4253 - acc: 0.8152"
       ]
      },
      {
       "output_type": "stream",
       "stream": "stdout",
       "text": [
        "\n",
        " 4600/14849 [========>.....................] - ETA: 12s - loss: 0.4194 - acc: 0.8154"
       ]
      },
      {
       "output_type": "stream",
       "stream": "stdout",
       "text": [
        "\n",
        " 4800/14849 [========>.....................] - ETA: 12s - loss: 0.4106 - acc: 0.8196"
       ]
      },
      {
       "output_type": "stream",
       "stream": "stdout",
       "text": [
        "\n",
        " 5000/14849 [=========>....................] - ETA: 12s - loss: 0.4065 - acc: 0.8230"
       ]
      },
      {
       "output_type": "stream",
       "stream": "stdout",
       "text": [
        "\n",
        " 5200/14849 [=========>....................] - ETA: 11s - loss: 0.4044 - acc: 0.8258"
       ]
      },
      {
       "output_type": "stream",
       "stream": "stdout",
       "text": [
        "\n",
        " 5400/14849 [=========>....................] - ETA: 11s - loss: 0.4013 - acc: 0.8267"
       ]
      },
      {
       "output_type": "stream",
       "stream": "stdout",
       "text": [
        "\n",
        " 5600/14849 [==========>...................] - ETA: 10s - loss: 0.3962 - acc: 0.8289"
       ]
      },
      {
       "output_type": "stream",
       "stream": "stdout",
       "text": [
        "\n",
        " 5800/14849 [==========>...................] - ETA: 10s - loss: 0.3925 - acc: 0.8300"
       ]
      },
      {
       "output_type": "stream",
       "stream": "stdout",
       "text": [
        "\n",
        " 6000/14849 [===========>..................] - ETA: 10s - loss: 0.3880 - acc: 0.8320"
       ]
      },
      {
       "output_type": "stream",
       "stream": "stdout",
       "text": [
        "\n",
        " 6200/14849 [===========>..................] - ETA: 9s - loss: 0.3832 - acc: 0.8348 "
       ]
      },
      {
       "output_type": "stream",
       "stream": "stdout",
       "text": [
        "\n",
        " 6400/14849 [===========>..................] - ETA: 9s - loss: 0.3775 - acc: 0.8381"
       ]
      },
      {
       "output_type": "stream",
       "stream": "stdout",
       "text": [
        "\n",
        " 6600/14849 [============>.................] - ETA: 9s - loss: 0.3718 - acc: 0.8411"
       ]
      },
      {
       "output_type": "stream",
       "stream": "stdout",
       "text": [
        "\n",
        " 6800/14849 [============>.................] - ETA: 8s - loss: 0.3678 - acc: 0.8429"
       ]
      },
      {
       "output_type": "stream",
       "stream": "stdout",
       "text": [
        "\n",
        " 7000/14849 [=============>................] - ETA: 8s - loss: 0.3639 - acc: 0.8449"
       ]
      },
      {
       "output_type": "stream",
       "stream": "stdout",
       "text": [
        "\n",
        " 7200/14849 [=============>................] - ETA: 8s - loss: 0.3590 - acc: 0.8472"
       ]
      },
      {
       "output_type": "stream",
       "stream": "stdout",
       "text": [
        "\n",
        " 7400/14849 [=============>................] - ETA: 8s - loss: 0.3578 - acc: 0.8469"
       ]
      },
      {
       "output_type": "stream",
       "stream": "stdout",
       "text": [
        "\n",
        " 7600/14849 [==============>...............] - ETA: 7s - loss: 0.3534 - acc: 0.8488"
       ]
      },
      {
       "output_type": "stream",
       "stream": "stdout",
       "text": [
        "\n",
        " 7800/14849 [==============>...............] - ETA: 7s - loss: 0.3493 - acc: 0.8510"
       ]
      },
      {
       "output_type": "stream",
       "stream": "stdout",
       "text": [
        "\n",
        " 8000/14849 [===============>..............] - ETA: 7s - loss: 0.3457 - acc: 0.8529"
       ]
      },
      {
       "output_type": "stream",
       "stream": "stdout",
       "text": [
        "\n",
        " 8200/14849 [===============>..............] - ETA: 7s - loss: 0.3428 - acc: 0.8540"
       ]
      },
      {
       "output_type": "stream",
       "stream": "stdout",
       "text": [
        "\n",
        " 8400/14849 [===============>..............] - ETA: 6s - loss: 0.3407 - acc: 0.8546"
       ]
      },
      {
       "output_type": "stream",
       "stream": "stdout",
       "text": [
        "\n",
        " 8600/14849 [================>.............] - ETA: 6s - loss: 0.3384 - acc: 0.8557"
       ]
      },
      {
       "output_type": "stream",
       "stream": "stdout",
       "text": [
        "\n",
        " 8800/14849 [================>.............] - ETA: 6s - loss: 0.3361 - acc: 0.8570"
       ]
      },
      {
       "output_type": "stream",
       "stream": "stdout",
       "text": [
        "\n",
        " 9000/14849 [=================>............] - ETA: 6s - loss: 0.3331 - acc: 0.8584"
       ]
      },
      {
       "output_type": "stream",
       "stream": "stdout",
       "text": [
        "\n",
        " 9200/14849 [=================>............] - ETA: 5s - loss: 0.3301 - acc: 0.8595"
       ]
      },
      {
       "output_type": "stream",
       "stream": "stdout",
       "text": [
        "\n",
        " 9400/14849 [=================>............] - ETA: 5s - loss: 0.3280 - acc: 0.8604"
       ]
      },
      {
       "output_type": "stream",
       "stream": "stdout",
       "text": [
        "\n",
        " 9600/14849 [==================>...........] - ETA: 5s - loss: 0.3248 - acc: 0.8618"
       ]
      },
      {
       "output_type": "stream",
       "stream": "stdout",
       "text": [
        "\n",
        " 9800/14849 [==================>...........] - ETA: 5s - loss: 0.3219 - acc: 0.8631"
       ]
      },
      {
       "output_type": "stream",
       "stream": "stdout",
       "text": [
        "\n",
        "10000/14849 [===================>..........] - ETA: 4s - loss: 0.3199 - acc: 0.8642"
       ]
      },
      {
       "output_type": "stream",
       "stream": "stdout",
       "text": [
        "\n",
        "10200/14849 [===================>..........] - ETA: 4s - loss: 0.3165 - acc: 0.8657"
       ]
      },
      {
       "output_type": "stream",
       "stream": "stdout",
       "text": [
        "\n",
        "10400/14849 [====================>.........] - ETA: 4s - loss: 0.3146 - acc: 0.8665"
       ]
      },
      {
       "output_type": "stream",
       "stream": "stdout",
       "text": [
        "\n",
        "10600/14849 [====================>.........] - ETA: 4s - loss: 0.3120 - acc: 0.8678"
       ]
      },
      {
       "output_type": "stream",
       "stream": "stdout",
       "text": [
        "\n",
        "10800/14849 [====================>.........] - ETA: 4s - loss: 0.3091 - acc: 0.8695"
       ]
      },
      {
       "output_type": "stream",
       "stream": "stdout",
       "text": [
        "\n",
        "11000/14849 [=====================>........] - ETA: 3s - loss: 0.3068 - acc: 0.8707"
       ]
      },
      {
       "output_type": "stream",
       "stream": "stdout",
       "text": [
        "\n",
        "11200/14849 [=====================>........] - ETA: 3s - loss: 0.3044 - acc: 0.8721"
       ]
      },
      {
       "output_type": "stream",
       "stream": "stdout",
       "text": [
        "\n",
        "11400/14849 [======================>.......] - ETA: 3s - loss: 0.3014 - acc: 0.8737"
       ]
      },
      {
       "output_type": "stream",
       "stream": "stdout",
       "text": [
        "\n",
        "11600/14849 [======================>.......] - ETA: 3s - loss: 0.2991 - acc: 0.8749"
       ]
      },
      {
       "output_type": "stream",
       "stream": "stdout",
       "text": [
        "\n",
        "11800/14849 [======================>.......] - ETA: 3s - loss: 0.2971 - acc: 0.8758"
       ]
      },
      {
       "output_type": "stream",
       "stream": "stdout",
       "text": [
        "\n",
        "12000/14849 [=======================>......] - ETA: 2s - loss: 0.2944 - acc: 0.8771"
       ]
      },
      {
       "output_type": "stream",
       "stream": "stdout",
       "text": [
        "\n",
        "12200/14849 [=======================>......] - ETA: 2s - loss: 0.2921 - acc: 0.8781"
       ]
      },
      {
       "output_type": "stream",
       "stream": "stdout",
       "text": [
        "\n",
        "12400/14849 [========================>.....] - ETA: 2s - loss: 0.2900 - acc: 0.8792"
       ]
      },
      {
       "output_type": "stream",
       "stream": "stdout",
       "text": [
        "\n",
        "12600/14849 [========================>.....] - ETA: 2s - loss: 0.2873 - acc: 0.8805"
       ]
      },
      {
       "output_type": "stream",
       "stream": "stdout",
       "text": [
        "\n",
        "12800/14849 [========================>.....] - ETA: 2s - loss: 0.2849 - acc: 0.8816"
       ]
      },
      {
       "output_type": "stream",
       "stream": "stdout",
       "text": [
        "\n",
        "13000/14849 [=========================>....] - ETA: 1s - loss: 0.2830 - acc: 0.8825"
       ]
      },
      {
       "output_type": "stream",
       "stream": "stdout",
       "text": [
        "\n",
        "13200/14849 [=========================>....] - ETA: 1s - loss: 0.2804 - acc: 0.8839"
       ]
      },
      {
       "output_type": "stream",
       "stream": "stdout",
       "text": [
        "\n",
        "13400/14849 [==========================>...] - ETA: 1s - loss: 0.2782 - acc: 0.8849"
       ]
      },
      {
       "output_type": "stream",
       "stream": "stdout",
       "text": [
        "\n",
        "13600/14849 [==========================>...] - ETA: 1s - loss: 0.2765 - acc: 0.8854"
       ]
      },
      {
       "output_type": "stream",
       "stream": "stdout",
       "text": [
        "\n",
        "13800/14849 [==========================>...] - ETA: 1s - loss: 0.2743 - acc: 0.8862"
       ]
      },
      {
       "output_type": "stream",
       "stream": "stdout",
       "text": [
        "\n",
        "14000/14849 [===========================>..] - ETA: 0s - loss: 0.2719 - acc: 0.8875"
       ]
      },
      {
       "output_type": "stream",
       "stream": "stdout",
       "text": [
        "\n",
        "14200/14849 [===========================>..] - ETA: 0s - loss: 0.2699 - acc: 0.8884"
       ]
      },
      {
       "output_type": "stream",
       "stream": "stdout",
       "text": [
        "\n",
        "14400/14849 [============================>.] - ETA: 0s - loss: 0.2676 - acc: 0.8892"
       ]
      },
      {
       "output_type": "stream",
       "stream": "stdout",
       "text": [
        "\n",
        "14600/14849 [============================>.] - ETA: 0s - loss: 0.2656 - acc: 0.8900"
       ]
      },
      {
       "output_type": "stream",
       "stream": "stdout",
       "text": [
        "\n",
        "14800/14849 [============================>.] - ETA: 0s - loss: 0.2637 - acc: 0.8907"
       ]
      },
      {
       "output_type": "stream",
       "stream": "stdout",
       "text": [
        "\n",
        "14849/14849 [==============================] - 15s 1ms/step - loss: 0.2631 - acc: 0.8909 - val_loss: 0.1355 - val_acc: 0.9425\n"
       ]
      },
      {
       "output_type": "stream",
       "stream": "stdout",
       "text": [
        "Epoch 2/10\n",
        "\n"
       ]
      },
      {
       "output_type": "stream",
       "stream": "stdout",
       "text": [
        "  200/14849 [..............................] - ETA: 11s - loss: 0.1348 - acc: 0.9450"
       ]
      },
      {
       "output_type": "stream",
       "stream": "stdout",
       "text": [
        "\n",
        "  400/14849 [..............................] - ETA: 12s - loss: 0.1195 - acc: 0.9525"
       ]
      },
      {
       "output_type": "stream",
       "stream": "stdout",
       "text": [
        "\n",
        "  600/14849 [>.............................] - ETA: 11s - loss: 0.1090 - acc: 0.9617"
       ]
      },
      {
       "output_type": "stream",
       "stream": "stdout",
       "text": [
        "\n",
        "  800/14849 [>.............................] - ETA: 11s - loss: 0.1070 - acc: 0.9625"
       ]
      },
      {
       "output_type": "stream",
       "stream": "stdout",
       "text": [
        "\n",
        " 1000/14849 [=>............................] - ETA: 11s - loss: 0.1062 - acc: 0.9620"
       ]
      },
      {
       "output_type": "stream",
       "stream": "stdout",
       "text": [
        "\n",
        " 1200/14849 [=>............................] - ETA: 11s - loss: 0.1083 - acc: 0.9600"
       ]
      },
      {
       "output_type": "stream",
       "stream": "stdout",
       "text": [
        "\n",
        " 1400/14849 [=>............................] - ETA: 11s - loss: 0.1142 - acc: 0.9564"
       ]
      },
      {
       "output_type": "stream",
       "stream": "stdout",
       "text": [
        "\n",
        " 1600/14849 [==>...........................] - ETA: 11s - loss: 0.1144 - acc: 0.9575"
       ]
      },
      {
       "output_type": "stream",
       "stream": "stdout",
       "text": [
        "\n",
        " 1800/14849 [==>...........................] - ETA: 10s - loss: 0.1154 - acc: 0.9561"
       ]
      },
      {
       "output_type": "stream",
       "stream": "stdout",
       "text": [
        "\n",
        " 2000/14849 [===>..........................] - ETA: 10s - loss: 0.1144 - acc: 0.9555"
       ]
      },
      {
       "output_type": "stream",
       "stream": "stdout",
       "text": [
        "\n",
        " 2200/14849 [===>..........................] - ETA: 10s - loss: 0.1117 - acc: 0.9568"
       ]
      },
      {
       "output_type": "stream",
       "stream": "stdout",
       "text": [
        "\n",
        " 2400/14849 [===>..........................] - ETA: 10s - loss: 0.1110 - acc: 0.9567"
       ]
      },
      {
       "output_type": "stream",
       "stream": "stdout",
       "text": [
        "\n",
        " 2600/14849 [====>.........................] - ETA: 10s - loss: 0.1115 - acc: 0.9565"
       ]
      },
      {
       "output_type": "stream",
       "stream": "stdout",
       "text": [
        "\n",
        " 2800/14849 [====>.........................] - ETA: 10s - loss: 0.1133 - acc: 0.9550"
       ]
      },
      {
       "output_type": "stream",
       "stream": "stdout",
       "text": [
        "\n",
        " 3000/14849 [=====>........................] - ETA: 9s - loss: 0.1111 - acc: 0.9563 "
       ]
      },
      {
       "output_type": "stream",
       "stream": "stdout",
       "text": [
        "\n",
        " 3200/14849 [=====>........................] - ETA: 9s - loss: 0.1100 - acc: 0.9569"
       ]
      },
      {
       "output_type": "stream",
       "stream": "stdout",
       "text": [
        "\n",
        " 3400/14849 [=====>........................] - ETA: 9s - loss: 0.1107 - acc: 0.9562"
       ]
      },
      {
       "output_type": "stream",
       "stream": "stdout",
       "text": [
        "\n",
        " 3600/14849 [======>.......................] - ETA: 9s - loss: 0.1144 - acc: 0.9542"
       ]
      },
      {
       "output_type": "stream",
       "stream": "stdout",
       "text": [
        "\n",
        " 3800/14849 [======>.......................] - ETA: 9s - loss: 0.1124 - acc: 0.9550"
       ]
      },
      {
       "output_type": "stream",
       "stream": "stdout",
       "text": [
        "\n",
        " 4000/14849 [=======>......................] - ETA: 9s - loss: 0.1102 - acc: 0.9567"
       ]
      },
      {
       "output_type": "stream",
       "stream": "stdout",
       "text": [
        "\n",
        " 4200/14849 [=======>......................] - ETA: 9s - loss: 0.1082 - acc: 0.9571"
       ]
      },
      {
       "output_type": "stream",
       "stream": "stdout",
       "text": [
        "\n",
        " 4400/14849 [=======>......................] - ETA: 9s - loss: 0.1071 - acc: 0.9577"
       ]
      },
      {
       "output_type": "stream",
       "stream": "stdout",
       "text": [
        "\n",
        " 4600/14849 [========>.....................] - ETA: 8s - loss: 0.1086 - acc: 0.9570"
       ]
      },
      {
       "output_type": "stream",
       "stream": "stdout",
       "text": [
        "\n",
        " 4800/14849 [========>.....................] - ETA: 8s - loss: 0.1101 - acc: 0.9560"
       ]
      },
      {
       "output_type": "stream",
       "stream": "stdout",
       "text": [
        "\n",
        " 5000/14849 [=========>....................] - ETA: 8s - loss: 0.1119 - acc: 0.9550"
       ]
      },
      {
       "output_type": "stream",
       "stream": "stdout",
       "text": [
        "\n",
        " 5200/14849 [=========>....................] - ETA: 8s - loss: 0.1142 - acc: 0.9544"
       ]
      },
      {
       "output_type": "stream",
       "stream": "stdout",
       "text": [
        "\n",
        " 5400/14849 [=========>....................] - ETA: 8s - loss: 0.1133 - acc: 0.9552"
       ]
      },
      {
       "output_type": "stream",
       "stream": "stdout",
       "text": [
        "\n",
        " 5600/14849 [==========>...................] - ETA: 8s - loss: 0.1140 - acc: 0.9552"
       ]
      },
      {
       "output_type": "stream",
       "stream": "stdout",
       "text": [
        "\n",
        " 5800/14849 [==========>...................] - ETA: 8s - loss: 0.1145 - acc: 0.9541"
       ]
      },
      {
       "output_type": "stream",
       "stream": "stdout",
       "text": [
        "\n",
        " 6000/14849 [===========>..................] - ETA: 7s - loss: 0.1145 - acc: 0.9540"
       ]
      },
      {
       "output_type": "stream",
       "stream": "stdout",
       "text": [
        "\n",
        " 6200/14849 [===========>..................] - ETA: 7s - loss: 0.1144 - acc: 0.9542"
       ]
      },
      {
       "output_type": "stream",
       "stream": "stdout",
       "text": [
        "\n",
        " 6400/14849 [===========>..................] - ETA: 7s - loss: 0.1149 - acc: 0.9541"
       ]
      },
      {
       "output_type": "stream",
       "stream": "stdout",
       "text": [
        "\n",
        " 6600/14849 [============>.................] - ETA: 7s - loss: 0.1142 - acc: 0.9545"
       ]
      },
      {
       "output_type": "stream",
       "stream": "stdout",
       "text": [
        "\n",
        " 6800/14849 [============>.................] - ETA: 7s - loss: 0.1138 - acc: 0.9546"
       ]
      },
      {
       "output_type": "stream",
       "stream": "stdout",
       "text": [
        "\n",
        " 7000/14849 [=============>................] - ETA: 6s - loss: 0.1139 - acc: 0.9546"
       ]
      },
      {
       "output_type": "stream",
       "stream": "stdout",
       "text": [
        "\n",
        " 7200/14849 [=============>................] - ETA: 6s - loss: 0.1147 - acc: 0.9543"
       ]
      },
      {
       "output_type": "stream",
       "stream": "stdout",
       "text": [
        "\n",
        " 7400/14849 [=============>................] - ETA: 6s - loss: 0.1152 - acc: 0.9541"
       ]
      },
      {
       "output_type": "stream",
       "stream": "stdout",
       "text": [
        "\n",
        " 7600/14849 [==============>...............] - ETA: 6s - loss: 0.1154 - acc: 0.9543"
       ]
      },
      {
       "output_type": "stream",
       "stream": "stdout",
       "text": [
        "\n",
        " 7800/14849 [==============>...............] - ETA: 6s - loss: 0.1152 - acc: 0.9544"
       ]
      },
      {
       "output_type": "stream",
       "stream": "stdout",
       "text": [
        "\n",
        " 8000/14849 [===============>..............] - ETA: 6s - loss: 0.1146 - acc: 0.9546"
       ]
      },
      {
       "output_type": "stream",
       "stream": "stdout",
       "text": [
        "\n",
        " 8200/14849 [===============>..............] - ETA: 5s - loss: 0.1130 - acc: 0.9554"
       ]
      },
      {
       "output_type": "stream",
       "stream": "stdout",
       "text": [
        "\n",
        " 8400/14849 [===============>..............] - ETA: 5s - loss: 0.1140 - acc: 0.9545"
       ]
      },
      {
       "output_type": "stream",
       "stream": "stdout",
       "text": [
        "\n",
        " 8600/14849 [================>.............] - ETA: 5s - loss: 0.1131 - acc: 0.9550"
       ]
      },
      {
       "output_type": "stream",
       "stream": "stdout",
       "text": [
        "\n",
        " 8800/14849 [================>.............] - ETA: 5s - loss: 0.1132 - acc: 0.9549"
       ]
      },
      {
       "output_type": "stream",
       "stream": "stdout",
       "text": [
        "\n",
        " 9000/14849 [=================>............] - ETA: 5s - loss: 0.1134 - acc: 0.9549"
       ]
      },
      {
       "output_type": "stream",
       "stream": "stdout",
       "text": [
        "\n",
        " 9200/14849 [=================>............] - ETA: 4s - loss: 0.1129 - acc: 0.9552"
       ]
      },
      {
       "output_type": "stream",
       "stream": "stdout",
       "text": [
        "\n",
        " 9400/14849 [=================>............] - ETA: 4s - loss: 0.1127 - acc: 0.9550"
       ]
      },
      {
       "output_type": "stream",
       "stream": "stdout",
       "text": [
        "\n",
        " 9600/14849 [==================>...........] - ETA: 4s - loss: 0.1129 - acc: 0.9548"
       ]
      },
      {
       "output_type": "stream",
       "stream": "stdout",
       "text": [
        "\n",
        " 9800/14849 [==================>...........] - ETA: 4s - loss: 0.1129 - acc: 0.9547"
       ]
      },
      {
       "output_type": "stream",
       "stream": "stdout",
       "text": [
        "\n",
        "10000/14849 [===================>..........] - ETA: 4s - loss: 0.1123 - acc: 0.9549"
       ]
      },
      {
       "output_type": "stream",
       "stream": "stdout",
       "text": [
        "\n",
        "10200/14849 [===================>..........] - ETA: 4s - loss: 0.1120 - acc: 0.9551"
       ]
      },
      {
       "output_type": "stream",
       "stream": "stdout",
       "text": [
        "\n",
        "10400/14849 [====================>.........] - ETA: 3s - loss: 0.1117 - acc: 0.9553"
       ]
      },
      {
       "output_type": "stream",
       "stream": "stdout",
       "text": [
        "\n",
        "10600/14849 [====================>.........] - ETA: 3s - loss: 0.1123 - acc: 0.9548"
       ]
      },
      {
       "output_type": "stream",
       "stream": "stdout",
       "text": [
        "\n",
        "10800/14849 [====================>.........] - ETA: 3s - loss: 0.1115 - acc: 0.9554"
       ]
      },
      {
       "output_type": "stream",
       "stream": "stdout",
       "text": [
        "\n",
        "11000/14849 [=====================>........] - ETA: 3s - loss: 0.1113 - acc: 0.9554"
       ]
      },
      {
       "output_type": "stream",
       "stream": "stdout",
       "text": [
        "\n",
        "11200/14849 [=====================>........] - ETA: 3s - loss: 0.1109 - acc: 0.9555"
       ]
      },
      {
       "output_type": "stream",
       "stream": "stdout",
       "text": [
        "\n",
        "11400/14849 [======================>.......] - ETA: 3s - loss: 0.1111 - acc: 0.9551"
       ]
      },
      {
       "output_type": "stream",
       "stream": "stdout",
       "text": [
        "\n",
        "11600/14849 [======================>.......] - ETA: 2s - loss: 0.1118 - acc: 0.9547"
       ]
      },
      {
       "output_type": "stream",
       "stream": "stdout",
       "text": [
        "\n",
        "11800/14849 [======================>.......] - ETA: 2s - loss: 0.1114 - acc: 0.9549"
       ]
      },
      {
       "output_type": "stream",
       "stream": "stdout",
       "text": [
        "\n",
        "12000/14849 [=======================>......] - ETA: 2s - loss: 0.1109 - acc: 0.9551"
       ]
      },
      {
       "output_type": "stream",
       "stream": "stdout",
       "text": [
        "\n",
        "12200/14849 [=======================>......] - ETA: 2s - loss: 0.1105 - acc: 0.9552"
       ]
      },
      {
       "output_type": "stream",
       "stream": "stdout",
       "text": [
        "\n",
        "12400/14849 [========================>.....] - ETA: 2s - loss: 0.1105 - acc: 0.9554"
       ]
      },
      {
       "output_type": "stream",
       "stream": "stdout",
       "text": [
        "\n",
        "12600/14849 [========================>.....] - ETA: 2s - loss: 0.1096 - acc: 0.9557"
       ]
      },
      {
       "output_type": "stream",
       "stream": "stdout",
       "text": [
        "\n",
        "12800/14849 [========================>.....] - ETA: 1s - loss: 0.1099 - acc: 0.9555"
       ]
      },
      {
       "output_type": "stream",
       "stream": "stdout",
       "text": [
        "\n",
        "13000/14849 [=========================>....] - ETA: 1s - loss: 0.1095 - acc: 0.9556"
       ]
      },
      {
       "output_type": "stream",
       "stream": "stdout",
       "text": [
        "\n",
        "13200/14849 [=========================>....] - ETA: 1s - loss: 0.1098 - acc: 0.9553"
       ]
      },
      {
       "output_type": "stream",
       "stream": "stdout",
       "text": [
        "\n",
        "13400/14849 [==========================>...] - ETA: 1s - loss: 0.1097 - acc: 0.9552"
       ]
      },
      {
       "output_type": "stream",
       "stream": "stdout",
       "text": [
        "\n",
        "13600/14849 [==========================>...] - ETA: 1s - loss: 0.1092 - acc: 0.9554"
       ]
      },
      {
       "output_type": "stream",
       "stream": "stdout",
       "text": [
        "\n",
        "13800/14849 [==========================>...] - ETA: 0s - loss: 0.1096 - acc: 0.9550"
       ]
      },
      {
       "output_type": "stream",
       "stream": "stdout",
       "text": [
        "\n",
        "14000/14849 [===========================>..] - ETA: 0s - loss: 0.1089 - acc: 0.9555"
       ]
      },
      {
       "output_type": "stream",
       "stream": "stdout",
       "text": [
        "\n",
        "14200/14849 [===========================>..] - ETA: 0s - loss: 0.1082 - acc: 0.9556"
       ]
      },
      {
       "output_type": "stream",
       "stream": "stdout",
       "text": [
        "\n",
        "14400/14849 [============================>.] - ETA: 0s - loss: 0.1082 - acc: 0.9556"
       ]
      },
      {
       "output_type": "stream",
       "stream": "stdout",
       "text": [
        "\n",
        "14600/14849 [============================>.] - ETA: 0s - loss: 0.1079 - acc: 0.9555"
       ]
      },
      {
       "output_type": "stream",
       "stream": "stdout",
       "text": [
        "\n",
        "14800/14849 [============================>.] - ETA: 0s - loss: 0.1076 - acc: 0.9556"
       ]
      },
      {
       "output_type": "stream",
       "stream": "stdout",
       "text": [
        "\n",
        "14849/14849 [==============================] - 13s 905us/step - loss: 0.1074 - acc: 0.9557 - val_loss: 0.1702 - val_acc: 0.9284\n"
       ]
      },
      {
       "output_type": "stream",
       "stream": "stdout",
       "text": [
        "CPU times: user 1min 7s, sys: 9.71 s, total: 1min 17s\n",
        "Wall time: 29.6 s\n"
       ]
      },
      {
       "metadata": {},
       "output_type": "pyout",
       "prompt_number": 237,
       "text": [
        "<keras.callbacks.History at 0x7f286e988990>"
       ]
      }
     ],
     "prompt_number": 237
    },
    {
     "cell_type": "code",
     "collapsed": false,
     "input": [
      "# training metrics\n",
      "scores = model.evaluate(seq_array, label_array, verbose=1, batch_size=200)\n",
      "print('Accurracy: {}'.format(scores[1]))"
     ],
     "language": "python",
     "metadata": {},
     "outputs": []
    },
    {
     "cell_type": "code",
     "collapsed": false,
     "input": [
      "# make predictions and compute confusion matrix\n",
      "y_pred = model.predict_classes(seq_array,verbose=1, batch_size=200)\n",
      "y_true = label_array\n",
      "print('Confusion matrix\\n- x-axis is true labels.\\n- y-axis is predicted labels')\n",
      "cm = confusion_matrix(y_true, y_pred)\n",
      "cm"
     ],
     "language": "python",
     "metadata": {},
     "outputs": []
    },
    {
     "cell_type": "code",
     "collapsed": false,
     "input": [
      "# compute precision and recall\n",
      "precision = precision_score(y_true, y_pred)\n",
      "recall = recall_score(y_true, y_pred)\n",
      "print( 'precision = ', precision, '\\n', 'recall = ', recall)"
     ],
     "language": "python",
     "metadata": {},
     "outputs": []
    },
    {
     "cell_type": "code",
     "collapsed": false,
     "input": [],
     "language": "python",
     "metadata": {},
     "outputs": []
    }
   ],
   "metadata": {}
  }
 ]
}