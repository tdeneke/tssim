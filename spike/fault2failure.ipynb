{
 "metadata": {
  "name": "",
  "signature": "sha256:cd16f715a010ec67399078e2ae55858a89cf2a196c9b8f4ba8581cdfb9e3a0ec"
 },
 "nbformat": 3,
 "nbformat_minor": 0,
 "worksheets": [
  {
   "cells": [
    {
     "cell_type": "code",
     "collapsed": false,
     "input": [
      "%pylab inline"
     ],
     "language": "python",
     "metadata": {},
     "outputs": [
      {
       "output_type": "stream",
       "stream": "stdout",
       "text": [
        "Populating the interactive namespace from numpy and matplotlib\n"
       ]
      }
     ],
     "prompt_number": 2
    },
    {
     "cell_type": "code",
     "collapsed": false,
     "input": [
      "import numpy as np\n",
      "import tensorflow as tf\n",
      "import random as rn\n",
      "\n",
      "#set seed for reproducability\n",
      "#PYTHONHASHSEED = 0\n",
      "import os\n",
      "os.environ['PYTHONHASHSEED'] = '0'\n",
      "np.random.seed(42)\n",
      "rn.seed(12345)\n",
      "\n",
      "session_conf = tf.ConfigProto(intra_op_parallelism_threads=1, inter_op_parallelism_threads=1)\n",
      "from keras import backend as K\n",
      "tf.set_random_seed(1234)\n",
      "sess = tf.Session(graph=tf.get_default_graph(), config=session_conf)\n",
      "K.set_session(sess)\n",
      "\n",
      "from sklearn.decomposition import PCA\n",
      "from pandas import *\n",
      "import datetime as dt\n",
      "import statsmodels.api as sm\n",
      "import matplotlib.pyplot as plt\n",
      "from sklearn import preprocessing\n",
      "from sklearn.metrics import confusion_matrix, recall_score, precision_score\n",
      "from keras.models import Sequential\n",
      "from keras.layers import Dense, Dropout, LSTM, Activation\n",
      "from keras.callbacks import EarlyStopping\n",
      "%matplotlib inline"
     ],
     "language": "python",
     "metadata": {},
     "outputs": [
      {
       "output_type": "stream",
       "stream": "stderr",
       "text": [
        "Using TensorFlow backend.\n"
       ]
      }
     ],
     "prompt_number": 3
    },
    {
     "cell_type": "code",
     "collapsed": false,
     "input": [
      "scale        = lambda x: (x - x.mean()) / x.std()"
     ],
     "language": "python",
     "metadata": {},
     "outputs": [],
     "prompt_number": 4
    },
    {
     "cell_type": "code",
     "collapsed": false,
     "input": [
      "def make_pca_index(data, scale_data = True):\n",
      "    '''\n",
      "    Compute the correlation matrix of a set of stock data, and return\n",
      "    the first principal component.\n",
      "\n",
      "    By default, the data are scaled to have mean zero and variance one\n",
      "    before performing the PCA.\n",
      "    '''\n",
      "    if scale_data:\n",
      "        #print(data)\n",
      "        data_std = data.apply(scale)\n",
      "        #print(data_std)\n",
      "    else:\n",
      "        data_std = data\n",
      "    #corrs = np.asarray(data_std.cov())\n",
      "    pca   = PCA(n_components = 1).fit(data_std.corr())\n",
      "    index = -scale(pca.transform(scale(data_std)))\n",
      "    return index"
     ],
     "language": "python",
     "metadata": {},
     "outputs": [],
     "prompt_number": 5
    },
    {
     "cell_type": "code",
     "collapsed": false,
     "input": [
      "train = read_csv('CMAPSSData/train_FD001.txt', sep=' ', header=None, usecols=arange(26))\n",
      "test     = read_csv('CMAPSSData/test_FD001.txt', sep=' ', header=None, usecols=arange(26))\n",
      "truth = read_csv('CMAPSSData/RUL_FD001.txt', sep=' ', header=None, usecols=arange(1))\n",
      "train.columns = ['id', 'cycle', 'setting1', 'setting2', 'setting3', 's1', 's2', 's3',\n",
      "                     's4', 's5', 's6', 's7', 's8', 's9', 's10', 's11', 's12', 's13', 's14',\n",
      "                     's15', 's16', 's17', 's18', 's19', 's20', 's21']\n",
      "test.columns = ['id', 'cycle', 'setting1', 'setting2', 'setting3', 's1', 's2', 's3',\n",
      "                     's4', 's5', 's6', 's7', 's8', 's9', 's10', 's11', 's12', 's13', 's14',\n",
      "                     's15', 's16', 's17', 's18', 's19', 's20', 's21']\n",
      "truth.columns = ['cycle']\n",
      "train = train.sort_values(['id','cycle'])"
     ],
     "language": "python",
     "metadata": {},
     "outputs": [],
     "prompt_number": 6
    },
    {
     "cell_type": "code",
     "collapsed": false,
     "input": [
      "#labels for regression\n",
      "rul = DataFrame(train.groupby('id')['cycle'].max()).reset_index()\n",
      "rul.columns = ['id', 'max']\n",
      "train = train.merge(rul, on=['id'], how='left')\n",
      "train['RUL'] = train['max'] - train['cycle']\n",
      "train.drop('max', axis=1, inplace=True)"
     ],
     "language": "python",
     "metadata": {},
     "outputs": [],
     "prompt_number": 7
    },
    {
     "cell_type": "code",
     "collapsed": false,
     "input": [
      "#testing pca\n",
      "#remove constant columns\n",
      "#corr = train.corr()\n",
      "#print(corr.isnull().values.any())\n",
      "#index = make_pca_index(train, scale_data=False)\n",
      "#print(index.shape)\n",
      "#plt.plot(index[0:2000])"
     ],
     "language": "python",
     "metadata": {},
     "outputs": [],
     "prompt_number": 8
    },
    {
     "cell_type": "code",
     "collapsed": false,
     "input": [
      "#labels for classification\n",
      "w1 = 30\n",
      "w0 = 15\n",
      "train['label1'] = np.where(train['RUL'] <= w1, 1, 0 )\n",
      "train['label2'] = train['label1']\n",
      "train.loc[train['RUL'] <= w0, 'label2'] = 2"
     ],
     "language": "python",
     "metadata": {},
     "outputs": [],
     "prompt_number": 9
    },
    {
     "cell_type": "code",
     "collapsed": false,
     "input": [
      "# normalization\n",
      "train['ncycle'] = train['cycle']\n",
      "ncols = train.columns.difference(['id','cycle','RUL','label1','label2'])\n",
      "min_max_scaler = preprocessing.MinMaxScaler()\n",
      "norm_train = DataFrame(min_max_scaler.fit_transform(train[ncols]), \n",
      "                             columns=ncols, \n",
      "                             index=train.index)\n",
      "join = train[train.columns.difference(ncols)].join(norm_train)\n",
      "train = join.reindex(columns = train.columns)"
     ],
     "language": "python",
     "metadata": {},
     "outputs": [],
     "prompt_number": 10
    },
    {
     "cell_type": "code",
     "collapsed": false,
     "input": [
      "# normalization of test data\n",
      "test['ncycle'] = test['cycle']\n",
      "norm_test = DataFrame(min_max_scaler.transform(test[ncols]), \n",
      "                            columns=ncols, \n",
      "                            index=test.index)\n",
      "test_join = test[test.columns.difference(ncols)].join(norm_test)\n",
      "test = test_join.reindex(columns = test.columns)\n",
      "test = test.reset_index(drop=True)"
     ],
     "language": "python",
     "metadata": {},
     "outputs": [],
     "prompt_number": 11
    },
    {
     "cell_type": "code",
     "collapsed": false,
     "input": [
      "# regression label for test\n",
      "rul = DataFrame(test.groupby('id')['cycle'].max()).reset_index()\n",
      "rul.columns = ['id', 'max']\n",
      "truth['id'] = truth.index + 1\n",
      "truth['max'] = rul['max'] + truth['cycle']\n",
      "truth.drop('cycle', axis=1, inplace=True)\n",
      "test = test.merge(truth, on=['id'], how='left')\n",
      "test['RUL'] = test['max'] - test['cycle']\n",
      "test.drop('max', axis=1, inplace=True)"
     ],
     "language": "python",
     "metadata": {},
     "outputs": [],
     "prompt_number": 12
    },
    {
     "cell_type": "code",
     "collapsed": false,
     "input": [
      "# generate classification label for test\n",
      "test['label1'] = np.where(test['RUL'] <= w1, 1, 0 )\n",
      "test['label2'] = test['label1']\n",
      "test.loc[test['RUL'] <= w0, 'label2'] = 2"
     ],
     "language": "python",
     "metadata": {},
     "outputs": [],
     "prompt_number": 13
    },
    {
     "cell_type": "code",
     "collapsed": false,
     "input": [
      "# pick a large window size of 50 cycles\n",
      "sequence_length = 50"
     ],
     "language": "python",
     "metadata": {},
     "outputs": [],
     "prompt_number": 14
    },
    {
     "cell_type": "code",
     "collapsed": false,
     "input": [
      "# modelling for binary classification\n",
      "# function to reshape features into (samples, time steps, features) \n",
      "def gen_sequence(id_df, seq_length, seq_cols):\n",
      "    \"\"\" Only sequences that meet the window-length are considered, no padding is used. This means for testing\n",
      "    we need to drop those which are below the window-length. An alternative would be to pad sequences so that\n",
      "    we can use shorter ones \"\"\"\n",
      "    data_array = id_df[seq_cols].values\n",
      "    num_elements = data_array.shape[0]\n",
      "    for start, stop in zip(range(0, num_elements-seq_length), range(seq_length, num_elements)):\n",
      "        yield data_array[start:stop, :]"
     ],
     "language": "python",
     "metadata": {},
     "outputs": [],
     "prompt_number": 15
    },
    {
     "cell_type": "code",
     "collapsed": false,
     "input": [
      "# pick the feature columns \n",
      "sensor_cols = ['s' + str(i) for i in range(1,22)]\n",
      "sequence_cols = ['setting1', 'setting2', 'setting3', 'ncycle']\n",
      "sequence_cols.extend(sensor_cols)"
     ],
     "language": "python",
     "metadata": {},
     "outputs": [],
     "prompt_number": 16
    },
    {
     "cell_type": "code",
     "collapsed": false,
     "input": [
      "# generator for the sequences\n",
      "seq_gen = (list(gen_sequence(train[train['id']==id], sequence_length, sequence_cols)) \n",
      "           for id in train['id'].unique())"
     ],
     "language": "python",
     "metadata": {},
     "outputs": [],
     "prompt_number": 17
    },
    {
     "cell_type": "code",
     "collapsed": false,
     "input": [
      "# generate sequences and convert to numpy array\n",
      "seq_array = np.concatenate(list(seq_gen)).astype(np.float32)\n",
      "seq_array.shape"
     ],
     "language": "python",
     "metadata": {},
     "outputs": [
      {
       "metadata": {},
       "output_type": "pyout",
       "prompt_number": 18,
       "text": [
        "(15631, 50, 25)"
       ]
      }
     ],
     "prompt_number": 18
    },
    {
     "cell_type": "code",
     "collapsed": false,
     "input": [
      "# function to generate labels\n",
      "def gen_labels(id_df, seq_length, label):\n",
      "    data_array = id_df[label].values\n",
      "    num_elements = data_array.shape[0]\n",
      "    return data_array[seq_length:num_elements, :]"
     ],
     "language": "python",
     "metadata": {},
     "outputs": [],
     "prompt_number": 19
    },
    {
     "cell_type": "code",
     "collapsed": false,
     "input": [
      "# generate labels\n",
      "label_gen = [gen_labels(train[train['id']==id], sequence_length, ['label1']) \n",
      "             for id in train['id'].unique()]\n",
      "label_array = np.concatenate(label_gen).astype(np.float32)\n",
      "label_array.shape"
     ],
     "language": "python",
     "metadata": {},
     "outputs": [
      {
       "metadata": {},
       "output_type": "pyout",
       "prompt_number": 20,
       "text": [
        "(15631, 1)"
       ]
      }
     ],
     "prompt_number": 20
    },
    {
     "cell_type": "code",
     "collapsed": false,
     "input": [
      "# modeling \n",
      "# build the network\n",
      "nb_features = seq_array.shape[2]\n",
      "nb_out = label_array.shape[1]\n",
      "\n",
      "model = Sequential()\n",
      "\n",
      "model.add(LSTM(\n",
      "         input_shape=(sequence_length, nb_features),\n",
      "         units=100,\n",
      "         return_sequences=True))\n",
      "model.add(Dropout(0.2))\n",
      "\n",
      "model.add(LSTM(\n",
      "          units=50,\n",
      "          return_sequences=False))\n",
      "model.add(Dropout(0.2))\n",
      "\n",
      "model.add(Dense(units=nb_out, activation='sigmoid'))\n",
      "model.compile(loss='binary_crossentropy', optimizer='adam', metrics=['accuracy'])"
     ],
     "language": "python",
     "metadata": {},
     "outputs": [],
     "prompt_number": 21
    },
    {
     "cell_type": "code",
     "collapsed": false,
     "input": [
      "print(model.summary())"
     ],
     "language": "python",
     "metadata": {},
     "outputs": [
      {
       "output_type": "stream",
       "stream": "stdout",
       "text": [
        "_________________________________________________________________\n",
        "Layer (type)                 Output Shape              Param #   \n",
        "=================================================================\n",
        "lstm_1 (LSTM)                (None, 50, 100)           50400     \n",
        "_________________________________________________________________\n",
        "dropout_1 (Dropout)          (None, 50, 100)           0         \n",
        "_________________________________________________________________\n",
        "lstm_2 (LSTM)                (None, 50)                30200     \n",
        "_________________________________________________________________\n",
        "dropout_2 (Dropout)          (None, 50)                0         \n",
        "_________________________________________________________________\n",
        "dense_1 (Dense)              (None, 1)                 51        \n",
        "=================================================================\n",
        "Total params: 80,651\n",
        "Trainable params: 80,651\n",
        "Non-trainable params: 0\n",
        "_________________________________________________________________\n",
        "None\n"
       ]
      }
     ],
     "prompt_number": 22
    },
    {
     "cell_type": "code",
     "collapsed": false,
     "input": [
      "%%time\n",
      "# fit the network\n",
      "model.fit(seq_array, label_array, epochs=10, batch_size=200, validation_split=0.05, verbose=1, shuffle=False, \n",
      "          callbacks = [EarlyStopping(monitor='val_loss', min_delta=0, patience=0, verbose=0, mode='auto')])"
     ],
     "language": "python",
     "metadata": {},
     "outputs": [
      {
       "output_type": "stream",
       "stream": "stdout",
       "text": [
        "Train on 14849 samples, validate on 782 samples\n",
        "Epoch 1/10\n",
        "\n"
       ]
      },
      {
       "output_type": "stream",
       "stream": "stdout",
       "text": [
        "  200/14849 [..............................] - ETA: 28s - loss: 0.0540 - acc: 0.9750"
       ]
      },
      {
       "output_type": "stream",
       "stream": "stdout",
       "text": [
        "\n",
        "  400/14849 [..............................] - ETA: 27s - loss: 0.0526 - acc: 0.9775"
       ]
      },
      {
       "output_type": "stream",
       "stream": "stdout",
       "text": [
        "\n",
        "  600/14849 [>.............................] - ETA: 27s - loss: 0.0648 - acc: 0.9683"
       ]
      },
      {
       "output_type": "stream",
       "stream": "stdout",
       "text": [
        "\n",
        "  800/14849 [>.............................] - ETA: 27s - loss: 0.0686 - acc: 0.9675"
       ]
      },
      {
       "output_type": "stream",
       "stream": "stdout",
       "text": [
        "\n",
        " 1000/14849 [=>............................] - ETA: 27s - loss: 0.0856 - acc: 0.9590"
       ]
      },
      {
       "output_type": "stream",
       "stream": "stdout",
       "text": [
        "\n",
        " 1200/14849 [=>............................] - ETA: 26s - loss: 0.0779 - acc: 0.9650"
       ]
      },
      {
       "output_type": "stream",
       "stream": "stdout",
       "text": [
        "\n",
        " 1400/14849 [=>............................] - ETA: 26s - loss: 0.0759 - acc: 0.9650"
       ]
      },
      {
       "output_type": "stream",
       "stream": "stdout",
       "text": [
        "\n",
        " 1600/14849 [==>...........................] - ETA: 26s - loss: 0.0741 - acc: 0.9675"
       ]
      },
      {
       "output_type": "stream",
       "stream": "stdout",
       "text": [
        "\n",
        " 1800/14849 [==>...........................] - ETA: 25s - loss: 0.0734 - acc: 0.9694"
       ]
      },
      {
       "output_type": "stream",
       "stream": "stdout",
       "text": [
        "\n",
        " 2000/14849 [===>..........................] - ETA: 25s - loss: 0.0713 - acc: 0.9715"
       ]
      },
      {
       "output_type": "stream",
       "stream": "stdout",
       "text": [
        "\n",
        " 2200/14849 [===>..........................] - ETA: 24s - loss: 0.0760 - acc: 0.9700"
       ]
      },
      {
       "output_type": "stream",
       "stream": "stdout",
       "text": [
        "\n",
        " 2400/14849 [===>..........................] - ETA: 24s - loss: 0.0742 - acc: 0.9713"
       ]
      },
      {
       "output_type": "stream",
       "stream": "stdout",
       "text": [
        "\n",
        " 2600/14849 [====>.........................] - ETA: 23s - loss: 0.0795 - acc: 0.9692"
       ]
      },
      {
       "output_type": "stream",
       "stream": "stdout",
       "text": [
        "\n",
        " 2800/14849 [====>.........................] - ETA: 23s - loss: 0.0767 - acc: 0.9707"
       ]
      },
      {
       "output_type": "stream",
       "stream": "stdout",
       "text": [
        "\n",
        " 3000/14849 [=====>........................] - ETA: 23s - loss: 0.0857 - acc: 0.9663"
       ]
      },
      {
       "output_type": "stream",
       "stream": "stdout",
       "text": [
        "\n",
        " 3200/14849 [=====>........................] - ETA: 22s - loss: 0.0834 - acc: 0.9675"
       ]
      },
      {
       "output_type": "stream",
       "stream": "stdout",
       "text": [
        "\n",
        " 3400/14849 [=====>........................] - ETA: 22s - loss: 0.0812 - acc: 0.9682"
       ]
      },
      {
       "output_type": "stream",
       "stream": "stdout",
       "text": [
        "\n",
        " 3600/14849 [======>.......................] - ETA: 21s - loss: 0.0810 - acc: 0.9689"
       ]
      },
      {
       "output_type": "stream",
       "stream": "stdout",
       "text": [
        "\n",
        " 3800/14849 [======>.......................] - ETA: 21s - loss: 0.0804 - acc: 0.9689"
       ]
      },
      {
       "output_type": "stream",
       "stream": "stdout",
       "text": [
        "\n",
        " 4000/14849 [=======>......................] - ETA: 21s - loss: 0.0807 - acc: 0.9688"
       ]
      },
      {
       "output_type": "stream",
       "stream": "stdout",
       "text": [
        "\n",
        " 4200/14849 [=======>......................] - ETA: 20s - loss: 0.0817 - acc: 0.9686"
       ]
      },
      {
       "output_type": "stream",
       "stream": "stdout",
       "text": [
        "\n",
        " 4400/14849 [=======>......................] - ETA: 20s - loss: 0.0812 - acc: 0.9686"
       ]
      },
      {
       "output_type": "stream",
       "stream": "stdout",
       "text": [
        "\n",
        " 4600/14849 [========>.....................] - ETA: 19s - loss: 0.0790 - acc: 0.9698"
       ]
      },
      {
       "output_type": "stream",
       "stream": "stdout",
       "text": [
        "\n",
        " 4800/14849 [========>.....................] - ETA: 19s - loss: 0.0807 - acc: 0.9681"
       ]
      },
      {
       "output_type": "stream",
       "stream": "stdout",
       "text": [
        "\n",
        " 5000/14849 [=========>....................] - ETA: 19s - loss: 0.0788 - acc: 0.9692"
       ]
      },
      {
       "output_type": "stream",
       "stream": "stdout",
       "text": [
        "\n",
        " 5200/14849 [=========>....................] - ETA: 18s - loss: 0.0796 - acc: 0.9688"
       ]
      },
      {
       "output_type": "stream",
       "stream": "stdout",
       "text": [
        "\n",
        " 5400/14849 [=========>....................] - ETA: 18s - loss: 0.0796 - acc: 0.9689"
       ]
      },
      {
       "output_type": "stream",
       "stream": "stdout",
       "text": [
        "\n",
        " 5600/14849 [==========>...................] - ETA: 17s - loss: 0.0808 - acc: 0.9688"
       ]
      },
      {
       "output_type": "stream",
       "stream": "stdout",
       "text": [
        "\n",
        " 5800/14849 [==========>...................] - ETA: 17s - loss: 0.0850 - acc: 0.9667"
       ]
      },
      {
       "output_type": "stream",
       "stream": "stdout",
       "text": [
        "\n",
        " 6000/14849 [===========>..................] - ETA: 17s - loss: 0.0845 - acc: 0.9667"
       ]
      },
      {
       "output_type": "stream",
       "stream": "stdout",
       "text": [
        "\n",
        " 6200/14849 [===========>..................] - ETA: 16s - loss: 0.0832 - acc: 0.9676"
       ]
      },
      {
       "output_type": "stream",
       "stream": "stdout",
       "text": [
        "\n",
        " 6400/14849 [===========>..................] - ETA: 16s - loss: 0.0815 - acc: 0.9683"
       ]
      },
      {
       "output_type": "stream",
       "stream": "stdout",
       "text": [
        "\n",
        " 6600/14849 [============>.................] - ETA: 15s - loss: 0.0818 - acc: 0.9679"
       ]
      },
      {
       "output_type": "stream",
       "stream": "stdout",
       "text": [
        "\n",
        " 6800/14849 [============>.................] - ETA: 15s - loss: 0.0807 - acc: 0.9682"
       ]
      },
      {
       "output_type": "stream",
       "stream": "stdout",
       "text": [
        "\n",
        " 7000/14849 [=============>................] - ETA: 15s - loss: 0.0803 - acc: 0.9680"
       ]
      },
      {
       "output_type": "stream",
       "stream": "stdout",
       "text": [
        "\n",
        " 7200/14849 [=============>................] - ETA: 14s - loss: 0.0789 - acc: 0.9686"
       ]
      },
      {
       "output_type": "stream",
       "stream": "stdout",
       "text": [
        "\n",
        " 7400/14849 [=============>................] - ETA: 14s - loss: 0.0865 - acc: 0.9658"
       ]
      },
      {
       "output_type": "stream",
       "stream": "stdout",
       "text": [
        "\n",
        " 7600/14849 [==============>...............] - ETA: 14s - loss: 0.0866 - acc: 0.9658"
       ]
      },
      {
       "output_type": "stream",
       "stream": "stdout",
       "text": [
        "\n",
        " 7800/14849 [==============>...............] - ETA: 13s - loss: 0.0873 - acc: 0.9653"
       ]
      },
      {
       "output_type": "stream",
       "stream": "stdout",
       "text": [
        "\n",
        " 8000/14849 [===============>..............] - ETA: 13s - loss: 0.0859 - acc: 0.9659"
       ]
      },
      {
       "output_type": "stream",
       "stream": "stdout",
       "text": [
        "\n",
        " 8200/14849 [===============>..............] - ETA: 12s - loss: 0.0854 - acc: 0.9659"
       ]
      }
     ]
    },
    {
     "cell_type": "code",
     "collapsed": false,
     "input": [
      "# training metrics\n",
      "scores = model.evaluate(seq_array, label_array, verbose=1, batch_size=200)\n",
      "print('Accurracy: {}'.format(scores[1]))"
     ],
     "language": "python",
     "metadata": {},
     "outputs": [
      {
       "output_type": "stream",
       "stream": "stdout",
       "text": [
        "\n",
        "  200/15631 [..............................] - ETA: 9s"
       ]
      },
      {
       "output_type": "stream",
       "stream": "stdout",
       "text": [
        "\n",
        "  400/15631 [..............................] - ETA: 9s"
       ]
      },
      {
       "output_type": "stream",
       "stream": "stdout",
       "text": [
        "\n",
        "  600/15631 [>.............................] - ETA: 9s"
       ]
      },
      {
       "output_type": "stream",
       "stream": "stdout",
       "text": [
        "\n",
        "  800/15631 [>.............................] - ETA: 9s"
       ]
      },
      {
       "output_type": "stream",
       "stream": "stdout",
       "text": [
        "\n",
        " 1000/15631 [>.............................] - ETA: 8s"
       ]
      },
      {
       "output_type": "stream",
       "stream": "stdout",
       "text": [
        "\n",
        " 1200/15631 [=>............................] - ETA: 8s"
       ]
      },
      {
       "output_type": "stream",
       "stream": "stdout",
       "text": [
        "\n",
        " 1400/15631 [=>............................] - ETA: 8s"
       ]
      },
      {
       "output_type": "stream",
       "stream": "stdout",
       "text": [
        "\n",
        " 1600/15631 [==>...........................] - ETA: 8s"
       ]
      },
      {
       "output_type": "stream",
       "stream": "stdout",
       "text": [
        "\n",
        " 1800/15631 [==>...........................] - ETA: 8s"
       ]
      },
      {
       "output_type": "stream",
       "stream": "stdout",
       "text": [
        "\n",
        " 2000/15631 [==>...........................] - ETA: 8s"
       ]
      },
      {
       "output_type": "stream",
       "stream": "stdout",
       "text": [
        "\n",
        " 2200/15631 [===>..........................] - ETA: 8s"
       ]
      },
      {
       "output_type": "stream",
       "stream": "stdout",
       "text": [
        "\n",
        " 2400/15631 [===>..........................] - ETA: 8s"
       ]
      },
      {
       "output_type": "stream",
       "stream": "stdout",
       "text": [
        "\n",
        " 2600/15631 [===>..........................] - ETA: 7s"
       ]
      },
      {
       "output_type": "stream",
       "stream": "stdout",
       "text": [
        "\n",
        " 2800/15631 [====>.........................] - ETA: 7s"
       ]
      },
      {
       "output_type": "stream",
       "stream": "stdout",
       "text": [
        "\n",
        " 3000/15631 [====>.........................] - ETA: 7s"
       ]
      },
      {
       "output_type": "stream",
       "stream": "stdout",
       "text": [
        "\n",
        " 3200/15631 [=====>........................] - ETA: 7s"
       ]
      },
      {
       "output_type": "stream",
       "stream": "stdout",
       "text": [
        "\n",
        " 3400/15631 [=====>........................] - ETA: 7s"
       ]
      },
      {
       "output_type": "stream",
       "stream": "stdout",
       "text": [
        "\n",
        " 3600/15631 [=====>........................] - ETA: 7s"
       ]
      },
      {
       "output_type": "stream",
       "stream": "stdout",
       "text": [
        "\n",
        " 3800/15631 [======>.......................] - ETA: 7s"
       ]
      },
      {
       "output_type": "stream",
       "stream": "stdout",
       "text": [
        "\n",
        " 4000/15631 [======>.......................] - ETA: 7s"
       ]
      },
      {
       "output_type": "stream",
       "stream": "stdout",
       "text": [
        "\n",
        " 4200/15631 [=======>......................] - ETA: 7s"
       ]
      },
      {
       "output_type": "stream",
       "stream": "stdout",
       "text": [
        "\n",
        " 4400/15631 [=======>......................] - ETA: 6s"
       ]
      },
      {
       "output_type": "stream",
       "stream": "stdout",
       "text": [
        "\n",
        " 4600/15631 [=======>......................] - ETA: 6s"
       ]
      },
      {
       "output_type": "stream",
       "stream": "stdout",
       "text": [
        "\n",
        " 4800/15631 [========>.....................] - ETA: 6s"
       ]
      },
      {
       "output_type": "stream",
       "stream": "stdout",
       "text": [
        "\n",
        " 5000/15631 [========>.....................] - ETA: 6s"
       ]
      },
      {
       "output_type": "stream",
       "stream": "stdout",
       "text": [
        "\n",
        " 5200/15631 [========>.....................] - ETA: 6s"
       ]
      },
      {
       "output_type": "stream",
       "stream": "stdout",
       "text": [
        "\n",
        " 5400/15631 [=========>....................] - ETA: 6s"
       ]
      },
      {
       "output_type": "stream",
       "stream": "stdout",
       "text": [
        "\n",
        " 5600/15631 [=========>....................] - ETA: 6s"
       ]
      },
      {
       "output_type": "stream",
       "stream": "stdout",
       "text": [
        "\n",
        " 5800/15631 [==========>...................] - ETA: 6s"
       ]
      },
      {
       "output_type": "stream",
       "stream": "stdout",
       "text": [
        "\n",
        " 6000/15631 [==========>...................] - ETA: 5s"
       ]
      },
      {
       "output_type": "stream",
       "stream": "stdout",
       "text": [
        "\n",
        " 6200/15631 [==========>...................] - ETA: 5s"
       ]
      },
      {
       "output_type": "stream",
       "stream": "stdout",
       "text": [
        "\n",
        " 6400/15631 [===========>..................] - ETA: 5s"
       ]
      },
      {
       "output_type": "stream",
       "stream": "stdout",
       "text": [
        "\n",
        " 6600/15631 [===========>..................] - ETA: 5s"
       ]
      },
      {
       "output_type": "stream",
       "stream": "stdout",
       "text": [
        "\n",
        " 6800/15631 [============>.................] - ETA: 5s"
       ]
      },
      {
       "output_type": "stream",
       "stream": "stdout",
       "text": [
        "\n",
        " 7000/15631 [============>.................] - ETA: 5s"
       ]
      },
      {
       "output_type": "stream",
       "stream": "stdout",
       "text": [
        "\n",
        " 7200/15631 [============>.................] - ETA: 5s"
       ]
      },
      {
       "output_type": "stream",
       "stream": "stdout",
       "text": [
        "\n",
        " 7400/15631 [=============>................] - ETA: 5s"
       ]
      },
      {
       "output_type": "stream",
       "stream": "stdout",
       "text": [
        "\n",
        " 7600/15631 [=============>................] - ETA: 4s"
       ]
      },
      {
       "output_type": "stream",
       "stream": "stdout",
       "text": [
        "\n",
        " 7800/15631 [=============>................] - ETA: 4s"
       ]
      },
      {
       "output_type": "stream",
       "stream": "stdout",
       "text": [
        "\n",
        " 8000/15631 [==============>...............] - ETA: 4s"
       ]
      },
      {
       "output_type": "stream",
       "stream": "stdout",
       "text": [
        "\n",
        " 8200/15631 [==============>...............] - ETA: 4s"
       ]
      },
      {
       "output_type": "stream",
       "stream": "stdout",
       "text": [
        "\n",
        " 8400/15631 [===============>..............] - ETA: 4s"
       ]
      },
      {
       "output_type": "stream",
       "stream": "stdout",
       "text": [
        "\n",
        " 8600/15631 [===============>..............] - ETA: 4s"
       ]
      },
      {
       "output_type": "stream",
       "stream": "stdout",
       "text": [
        "\n",
        " 8800/15631 [===============>..............] - ETA: 4s"
       ]
      },
      {
       "output_type": "stream",
       "stream": "stdout",
       "text": [
        "\n",
        " 9000/15631 [================>.............] - ETA: 4s"
       ]
      },
      {
       "output_type": "stream",
       "stream": "stdout",
       "text": [
        "\n",
        " 9200/15631 [================>.............] - ETA: 3s"
       ]
      },
      {
       "output_type": "stream",
       "stream": "stdout",
       "text": [
        "\n",
        " 9400/15631 [=================>............] - ETA: 3s"
       ]
      },
      {
       "output_type": "stream",
       "stream": "stdout",
       "text": [
        "\n",
        " 9600/15631 [=================>............] - ETA: 3s"
       ]
      },
      {
       "output_type": "stream",
       "stream": "stdout",
       "text": [
        "\n",
        " 9800/15631 [=================>............] - ETA: 3s"
       ]
      },
      {
       "output_type": "stream",
       "stream": "stdout",
       "text": [
        "\n",
        "10000/15631 [==================>...........] - ETA: 3s"
       ]
      },
      {
       "output_type": "stream",
       "stream": "stdout",
       "text": [
        "\n",
        "10200/15631 [==================>...........] - ETA: 3s"
       ]
      },
      {
       "output_type": "stream",
       "stream": "stdout",
       "text": [
        "\n",
        "10400/15631 [==================>...........] - ETA: 3s"
       ]
      },
      {
       "output_type": "stream",
       "stream": "stdout",
       "text": [
        "\n",
        "10600/15631 [===================>..........] - ETA: 3s"
       ]
      },
      {
       "output_type": "stream",
       "stream": "stdout",
       "text": [
        "\n",
        "10800/15631 [===================>..........] - ETA: 2s"
       ]
      },
      {
       "output_type": "stream",
       "stream": "stdout",
       "text": [
        "\n",
        "11000/15631 [====================>.........] - ETA: 2s"
       ]
      },
      {
       "output_type": "stream",
       "stream": "stdout",
       "text": [
        "\n",
        "11200/15631 [====================>.........] - ETA: 2s"
       ]
      },
      {
       "output_type": "stream",
       "stream": "stdout",
       "text": [
        "\n",
        "11400/15631 [====================>.........] - ETA: 2s"
       ]
      },
      {
       "output_type": "stream",
       "stream": "stdout",
       "text": [
        "\n",
        "11600/15631 [=====================>........] - ETA: 2s"
       ]
      },
      {
       "output_type": "stream",
       "stream": "stdout",
       "text": [
        "\n",
        "11800/15631 [=====================>........] - ETA: 2s"
       ]
      },
      {
       "output_type": "stream",
       "stream": "stdout",
       "text": [
        "\n",
        "12000/15631 [======================>.......] - ETA: 2s"
       ]
      },
      {
       "output_type": "stream",
       "stream": "stdout",
       "text": [
        "\n",
        "12200/15631 [======================>.......] - ETA: 2s"
       ]
      },
      {
       "output_type": "stream",
       "stream": "stdout",
       "text": [
        "\n",
        "12400/15631 [======================>.......] - ETA: 1s"
       ]
      },
      {
       "output_type": "stream",
       "stream": "stdout",
       "text": [
        "\n",
        "12600/15631 [=======================>......] - ETA: 1s"
       ]
      },
      {
       "output_type": "stream",
       "stream": "stdout",
       "text": [
        "\n",
        "12800/15631 [=======================>......] - ETA: 1s"
       ]
      },
      {
       "output_type": "stream",
       "stream": "stdout",
       "text": [
        "\n",
        "13000/15631 [=======================>......] - ETA: 1s"
       ]
      },
      {
       "output_type": "stream",
       "stream": "stdout",
       "text": [
        "\n",
        "13200/15631 [========================>.....] - ETA: 1s"
       ]
      },
      {
       "output_type": "stream",
       "stream": "stdout",
       "text": [
        "\n",
        "13400/15631 [========================>.....] - ETA: 1s"
       ]
      },
      {
       "output_type": "stream",
       "stream": "stdout",
       "text": [
        "\n",
        "13600/15631 [=========================>....] - ETA: 1s"
       ]
      },
      {
       "output_type": "stream",
       "stream": "stdout",
       "text": [
        "\n",
        "13800/15631 [=========================>....] - ETA: 1s"
       ]
      },
      {
       "output_type": "stream",
       "stream": "stdout",
       "text": [
        "\n",
        "14000/15631 [=========================>....] - ETA: 0s"
       ]
      },
      {
       "output_type": "stream",
       "stream": "stdout",
       "text": [
        "\n",
        "14200/15631 [==========================>...] - ETA: 0s"
       ]
      },
      {
       "output_type": "stream",
       "stream": "stdout",
       "text": [
        "\n",
        "14400/15631 [==========================>...] - ETA: 0s"
       ]
      },
      {
       "output_type": "stream",
       "stream": "stdout",
       "text": [
        "\n",
        "14600/15631 [===========================>..] - ETA: 0s"
       ]
      },
      {
       "output_type": "stream",
       "stream": "stdout",
       "text": [
        "\n",
        "14800/15631 [===========================>..] - ETA: 0s"
       ]
      },
      {
       "output_type": "stream",
       "stream": "stdout",
       "text": [
        "\n",
        "15000/15631 [===========================>..] - ETA: 0s"
       ]
      },
      {
       "output_type": "stream",
       "stream": "stdout",
       "text": [
        "\n",
        "15200/15631 [============================>.] - ETA: 0s"
       ]
      },
      {
       "output_type": "stream",
       "stream": "stdout",
       "text": [
        "\n",
        "15400/15631 [============================>.] - ETA: 0s"
       ]
      },
      {
       "output_type": "stream",
       "stream": "stdout",
       "text": [
        "\n",
        "15600/15631 [============================>.] - ETA: 0s"
       ]
      },
      {
       "output_type": "stream",
       "stream": "stdout",
       "text": [
        "\n",
        "15631/15631 [==============================] - 10s 611us/step\n"
       ]
      },
      {
       "output_type": "stream",
       "stream": "stdout",
       "text": [
        "Accurracy: 0.962894253371\n"
       ]
      }
     ],
     "prompt_number": 24
    },
    {
     "cell_type": "code",
     "collapsed": false,
     "input": [
      "# make predictions and compute confusion matrix\n",
      "y_pred = model.predict_classes(seq_array,verbose=1, batch_size=200)\n",
      "y_true = label_array\n",
      "print('Confusion matrix\\n- x-axis is true labels.\\n- y-axis is predicted labels')\n",
      "cm = confusion_matrix(y_true, y_pred)\n",
      "cm"
     ],
     "language": "python",
     "metadata": {},
     "outputs": [
      {
       "output_type": "stream",
       "stream": "stdout",
       "text": [
        "\n",
        "  200/15631 [..............................] - ETA: 18s"
       ]
      },
      {
       "output_type": "stream",
       "stream": "stdout",
       "text": [
        "\n",
        "  400/15631 [..............................] - ETA: 13s"
       ]
      },
      {
       "output_type": "stream",
       "stream": "stdout",
       "text": [
        "\n",
        "  600/15631 [>.............................] - ETA: 12s"
       ]
      },
      {
       "output_type": "stream",
       "stream": "stdout",
       "text": [
        "\n",
        "  800/15631 [>.............................] - ETA: 11s"
       ]
      },
      {
       "output_type": "stream",
       "stream": "stdout",
       "text": [
        "\n",
        " 1000/15631 [>.............................] - ETA: 10s"
       ]
      },
      {
       "output_type": "stream",
       "stream": "stdout",
       "text": [
        "\n",
        " 1200/15631 [=>............................] - ETA: 10s"
       ]
      },
      {
       "output_type": "stream",
       "stream": "stdout",
       "text": [
        "\n",
        " 1400/15631 [=>............................] - ETA: 9s "
       ]
      },
      {
       "output_type": "stream",
       "stream": "stdout",
       "text": [
        "\n",
        " 1600/15631 [==>...........................] - ETA: 9s"
       ]
      },
      {
       "output_type": "stream",
       "stream": "stdout",
       "text": [
        "\n",
        " 1800/15631 [==>...........................] - ETA: 9s"
       ]
      },
      {
       "output_type": "stream",
       "stream": "stdout",
       "text": [
        "\n",
        " 2000/15631 [==>...........................] - ETA: 9s"
       ]
      },
      {
       "output_type": "stream",
       "stream": "stdout",
       "text": [
        "\n",
        " 2200/15631 [===>..........................] - ETA: 8s"
       ]
      },
      {
       "output_type": "stream",
       "stream": "stdout",
       "text": [
        "\n",
        " 2400/15631 [===>..........................] - ETA: 8s"
       ]
      },
      {
       "output_type": "stream",
       "stream": "stdout",
       "text": [
        "\n",
        " 2600/15631 [===>..........................] - ETA: 8s"
       ]
      },
      {
       "output_type": "stream",
       "stream": "stdout",
       "text": [
        "\n",
        " 2800/15631 [====>.........................] - ETA: 8s"
       ]
      },
      {
       "output_type": "stream",
       "stream": "stdout",
       "text": [
        "\n",
        " 3000/15631 [====>.........................] - ETA: 8s"
       ]
      },
      {
       "output_type": "stream",
       "stream": "stdout",
       "text": [
        "\n",
        " 3200/15631 [=====>........................] - ETA: 8s"
       ]
      },
      {
       "output_type": "stream",
       "stream": "stdout",
       "text": [
        "\n",
        " 3400/15631 [=====>........................] - ETA: 7s"
       ]
      },
      {
       "output_type": "stream",
       "stream": "stdout",
       "text": [
        "\n",
        " 3600/15631 [=====>........................] - ETA: 7s"
       ]
      },
      {
       "output_type": "stream",
       "stream": "stdout",
       "text": [
        "\n",
        " 3800/15631 [======>.......................] - ETA: 7s"
       ]
      },
      {
       "output_type": "stream",
       "stream": "stdout",
       "text": [
        "\n",
        " 4000/15631 [======>.......................] - ETA: 7s"
       ]
      },
      {
       "output_type": "stream",
       "stream": "stdout",
       "text": [
        "\n",
        " 4200/15631 [=======>......................] - ETA: 7s"
       ]
      },
      {
       "output_type": "stream",
       "stream": "stdout",
       "text": [
        "\n",
        " 4400/15631 [=======>......................] - ETA: 7s"
       ]
      },
      {
       "output_type": "stream",
       "stream": "stdout",
       "text": [
        "\n",
        " 4600/15631 [=======>......................] - ETA: 6s"
       ]
      },
      {
       "output_type": "stream",
       "stream": "stdout",
       "text": [
        "\n",
        " 4800/15631 [========>.....................] - ETA: 6s"
       ]
      },
      {
       "output_type": "stream",
       "stream": "stdout",
       "text": [
        "\n",
        " 5000/15631 [========>.....................] - ETA: 6s"
       ]
      },
      {
       "output_type": "stream",
       "stream": "stdout",
       "text": [
        "\n",
        " 5200/15631 [========>.....................] - ETA: 6s"
       ]
      },
      {
       "output_type": "stream",
       "stream": "stdout",
       "text": [
        "\n",
        " 5400/15631 [=========>....................] - ETA: 6s"
       ]
      },
      {
       "output_type": "stream",
       "stream": "stdout",
       "text": [
        "\n",
        " 5600/15631 [=========>....................] - ETA: 6s"
       ]
      },
      {
       "output_type": "stream",
       "stream": "stdout",
       "text": [
        "\n",
        " 5800/15631 [==========>...................] - ETA: 6s"
       ]
      },
      {
       "output_type": "stream",
       "stream": "stdout",
       "text": [
        "\n",
        " 6000/15631 [==========>...................] - ETA: 6s"
       ]
      },
      {
       "output_type": "stream",
       "stream": "stdout",
       "text": [
        "\n",
        " 6200/15631 [==========>...................] - ETA: 5s"
       ]
      },
      {
       "output_type": "stream",
       "stream": "stdout",
       "text": [
        "\n",
        " 6400/15631 [===========>..................] - ETA: 5s"
       ]
      },
      {
       "output_type": "stream",
       "stream": "stdout",
       "text": [
        "\n",
        " 6600/15631 [===========>..................] - ETA: 5s"
       ]
      },
      {
       "output_type": "stream",
       "stream": "stdout",
       "text": [
        "\n",
        " 6800/15631 [============>.................] - ETA: 5s"
       ]
      },
      {
       "output_type": "stream",
       "stream": "stdout",
       "text": [
        "\n",
        " 7000/15631 [============>.................] - ETA: 5s"
       ]
      },
      {
       "output_type": "stream",
       "stream": "stdout",
       "text": [
        "\n",
        " 7200/15631 [============>.................] - ETA: 5s"
       ]
      },
      {
       "output_type": "stream",
       "stream": "stdout",
       "text": [
        "\n",
        " 7400/15631 [=============>................] - ETA: 5s"
       ]
      },
      {
       "output_type": "stream",
       "stream": "stdout",
       "text": [
        "\n",
        " 7600/15631 [=============>................] - ETA: 4s"
       ]
      },
      {
       "output_type": "stream",
       "stream": "stdout",
       "text": [
        "\n",
        " 7800/15631 [=============>................] - ETA: 4s"
       ]
      },
      {
       "output_type": "stream",
       "stream": "stdout",
       "text": [
        "\n",
        " 8000/15631 [==============>...............] - ETA: 4s"
       ]
      },
      {
       "output_type": "stream",
       "stream": "stdout",
       "text": [
        "\n",
        " 8200/15631 [==============>...............] - ETA: 4s"
       ]
      },
      {
       "output_type": "stream",
       "stream": "stdout",
       "text": [
        "\n",
        " 8400/15631 [===============>..............] - ETA: 4s"
       ]
      },
      {
       "output_type": "stream",
       "stream": "stdout",
       "text": [
        "\n",
        " 8600/15631 [===============>..............] - ETA: 4s"
       ]
      },
      {
       "output_type": "stream",
       "stream": "stdout",
       "text": [
        "\n",
        " 8800/15631 [===============>..............] - ETA: 4s"
       ]
      },
      {
       "output_type": "stream",
       "stream": "stdout",
       "text": [
        "\n",
        " 9000/15631 [================>.............] - ETA: 4s"
       ]
      },
      {
       "output_type": "stream",
       "stream": "stdout",
       "text": [
        "\n",
        " 9200/15631 [================>.............] - ETA: 3s"
       ]
      },
      {
       "output_type": "stream",
       "stream": "stdout",
       "text": [
        "\n",
        " 9400/15631 [=================>............] - ETA: 3s"
       ]
      },
      {
       "output_type": "stream",
       "stream": "stdout",
       "text": [
        "\n",
        " 9600/15631 [=================>............] - ETA: 3s"
       ]
      },
      {
       "output_type": "stream",
       "stream": "stdout",
       "text": [
        "\n",
        " 9800/15631 [=================>............] - ETA: 3s"
       ]
      },
      {
       "output_type": "stream",
       "stream": "stdout",
       "text": [
        "\n",
        "10000/15631 [==================>...........] - ETA: 3s"
       ]
      },
      {
       "output_type": "stream",
       "stream": "stdout",
       "text": [
        "\n",
        "10200/15631 [==================>...........] - ETA: 3s"
       ]
      },
      {
       "output_type": "stream",
       "stream": "stdout",
       "text": [
        "\n",
        "10400/15631 [==================>...........] - ETA: 3s"
       ]
      },
      {
       "output_type": "stream",
       "stream": "stdout",
       "text": [
        "\n",
        "10600/15631 [===================>..........] - ETA: 3s"
       ]
      },
      {
       "output_type": "stream",
       "stream": "stdout",
       "text": [
        "\n",
        "10800/15631 [===================>..........] - ETA: 2s"
       ]
      },
      {
       "output_type": "stream",
       "stream": "stdout",
       "text": [
        "\n",
        "11000/15631 [====================>.........] - ETA: 2s"
       ]
      },
      {
       "output_type": "stream",
       "stream": "stdout",
       "text": [
        "\n",
        "11200/15631 [====================>.........] - ETA: 2s"
       ]
      },
      {
       "output_type": "stream",
       "stream": "stdout",
       "text": [
        "\n",
        "11400/15631 [====================>.........] - ETA: 2s"
       ]
      },
      {
       "output_type": "stream",
       "stream": "stdout",
       "text": [
        "\n",
        "11600/15631 [=====================>........] - ETA: 2s"
       ]
      },
      {
       "output_type": "stream",
       "stream": "stdout",
       "text": [
        "\n",
        "11800/15631 [=====================>........] - ETA: 2s"
       ]
      },
      {
       "output_type": "stream",
       "stream": "stdout",
       "text": [
        "\n",
        "12000/15631 [======================>.......] - ETA: 2s"
       ]
      },
      {
       "output_type": "stream",
       "stream": "stdout",
       "text": [
        "\n",
        "12200/15631 [======================>.......] - ETA: 2s"
       ]
      },
      {
       "output_type": "stream",
       "stream": "stdout",
       "text": [
        "\n",
        "12400/15631 [======================>.......] - ETA: 1s"
       ]
      },
      {
       "output_type": "stream",
       "stream": "stdout",
       "text": [
        "\n",
        "12600/15631 [=======================>......] - ETA: 1s"
       ]
      },
      {
       "output_type": "stream",
       "stream": "stdout",
       "text": [
        "\n",
        "12800/15631 [=======================>......] - ETA: 1s"
       ]
      },
      {
       "output_type": "stream",
       "stream": "stdout",
       "text": [
        "\n",
        "13000/15631 [=======================>......] - ETA: 1s"
       ]
      },
      {
       "output_type": "stream",
       "stream": "stdout",
       "text": [
        "\n",
        "13200/15631 [========================>.....] - ETA: 1s"
       ]
      },
      {
       "output_type": "stream",
       "stream": "stdout",
       "text": [
        "\n",
        "13400/15631 [========================>.....] - ETA: 1s"
       ]
      },
      {
       "output_type": "stream",
       "stream": "stdout",
       "text": [
        "\n",
        "13600/15631 [=========================>....] - ETA: 1s"
       ]
      },
      {
       "output_type": "stream",
       "stream": "stdout",
       "text": [
        "\n",
        "13800/15631 [=========================>....] - ETA: 1s"
       ]
      },
      {
       "output_type": "stream",
       "stream": "stdout",
       "text": [
        "\n",
        "14000/15631 [=========================>....] - ETA: 1s"
       ]
      },
      {
       "output_type": "stream",
       "stream": "stdout",
       "text": [
        "\n",
        "14200/15631 [==========================>...] - ETA: 0s"
       ]
      },
      {
       "output_type": "stream",
       "stream": "stdout",
       "text": [
        "\n",
        "14400/15631 [==========================>...] - ETA: 0s"
       ]
      },
      {
       "output_type": "stream",
       "stream": "stdout",
       "text": [
        "\n",
        "14600/15631 [===========================>..] - ETA: 0s"
       ]
      },
      {
       "output_type": "stream",
       "stream": "stdout",
       "text": [
        "\n",
        "14800/15631 [===========================>..] - ETA: 0s"
       ]
      },
      {
       "output_type": "stream",
       "stream": "stdout",
       "text": [
        "\n",
        "15000/15631 [===========================>..] - ETA: 0s"
       ]
      },
      {
       "output_type": "stream",
       "stream": "stdout",
       "text": [
        "\n",
        "15200/15631 [============================>.] - ETA: 0s"
       ]
      },
      {
       "output_type": "stream",
       "stream": "stdout",
       "text": [
        "\n",
        "15400/15631 [============================>.] - ETA: 0s"
       ]
      },
      {
       "output_type": "stream",
       "stream": "stdout",
       "text": [
        "\n",
        "15600/15631 [============================>.] - ETA: 0s"
       ]
      },
      {
       "output_type": "stream",
       "stream": "stdout",
       "text": [
        "\n",
        "15631/15631 [==============================] - 10s 616us/step\n"
       ]
      },
      {
       "output_type": "stream",
       "stream": "stdout",
       "text": [
        "Confusion matrix\n",
        "- x-axis is true labels.\n",
        "- y-axis is predicted labels\n"
       ]
      },
      {
       "metadata": {},
       "output_type": "pyout",
       "prompt_number": 25,
       "text": [
        "array([[12475,    56],\n",
        "       [  524,  2576]])"
       ]
      }
     ],
     "prompt_number": 25
    },
    {
     "cell_type": "code",
     "collapsed": false,
     "input": [
      "# compute precision and recall\n",
      "precision = precision_score(y_true, y_pred)\n",
      "recall = recall_score(y_true, y_pred)\n",
      "print( 'precision = ', precision, '\\n', 'recall = ', recall)"
     ],
     "language": "python",
     "metadata": {},
     "outputs": [
      {
       "output_type": "stream",
       "stream": "stdout",
       "text": [
        "('precision = ', 0.9787234042553191, '\\n', 'recall = ', 0.8309677419354838)\n"
       ]
      }
     ],
     "prompt_number": 26
    },
    {
     "cell_type": "code",
     "collapsed": false,
     "input": [],
     "language": "python",
     "metadata": {},
     "outputs": []
    }
   ],
   "metadata": {}
  }
 ]
}